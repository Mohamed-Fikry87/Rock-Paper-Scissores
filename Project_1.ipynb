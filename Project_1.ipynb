{
  "cells": [
    {
      "cell_type": "markdown",
      "metadata": {
        "id": "QFs8WJNOTbe9"
      },
      "source": [
        "![1_8du96SQUQ0NlWmWvVu20Zw.png](attachment:1_8du96SQUQ0NlWmWvVu20Zw.png)"
      ]
    },
    {
      "cell_type": "markdown",
      "metadata": {
        "id": "MQeaI3vuTbe_"
      },
      "source": [
        "### Description\n",
        "> #### In this game, the user gets the first chance to pick the option among Rock, paper and scissors. After that computer select from the remaining two choices(randomly), the winner is decided as per the rules.\n",
        "- Rock vs paper-> paper wins\n",
        "- Rock vs scissor-> Rock wins\n",
        "- paper vs scissor-> scissor wins."
      ]
    },
    {
      "cell_type": "code",
      "source": [
        "def determine_winner(player, computer):\n",
        "     if player == computer:\n",
        "         return \"Tie\"\n",
        "     elif (player == \"rock\" and computer == \"scissors\") or (player == \"scissors\" and computer == \"paper\") or (player == \"paper\" and computer == \"rock\"):\n",
        "         return \"User\"\n",
        "     else:\n",
        "         return \"Computer\""
      ],
      "metadata": {
        "id": "o-etbSiVVVsC"
      },
      "execution_count": 1,
      "outputs": []
    },
    {
      "cell_type": "code",
      "execution_count": 4,
      "metadata": {
        "colab": {
          "base_uri": "https://localhost:8080/"
        },
        "id": "0Ort1SunTbfA",
        "outputId": "67e73a47-2e9d-4c8c-90ab-fd8a1472a05b"
      },
      "outputs": [
        {
          "output_type": "stream",
          "name": "stdout",
          "text": [
            "Number of rounds to win the game 1\n",
            "Enter your choice (rock, paper, scissors) or 'q' to quit: rock\n",
            "Player: rock\n",
            "Computer: paper\n",
            "Computer Won This Round 1\n",
            "--------------------------------------------------\n",
            "User Score = 0\n",
            "Computer Score = 1\n",
            "Computer Won The Game\n",
            "Play Again (y / n) y\n",
            "Number of rounds to win the game 2\n",
            "Enter your choice (rock, paper, scissors) or 'q' to quit: rock\n",
            "Player: rock\n",
            "Computer: rock\n",
            "It's a Tie At Round 2\n",
            "Enter your choice (rock, paper, scissors) or 'q' to quit: rock\n",
            "Player: rock\n",
            "Computer: scissors\n",
            "User Won This Round 3\n",
            "--------------------------------------------------\n",
            "User Score = 1\n",
            "Computer Score = 0\n",
            "Enter your choice (rock, paper, scissors) or 'q' to quit: rock\n",
            "Player: rock\n",
            "Computer: scissors\n",
            "User Won This Round 4\n",
            "--------------------------------------------------\n",
            "User Score = 2\n",
            "Computer Score = 0\n",
            "User Won The Game\n",
            "Play Again (y / n) n\n",
            "Thanks for playing!\n"
          ]
        }
      ],
      "source": [
        "import random\n",
        "\n",
        "options = (\"rock\", \"paper\", \"scissors\")\n",
        "playing = True\n",
        "user_score = 0\n",
        "computer_score = 0\n",
        "\n",
        "rounds = int(input(\"Number of rounds to win the game \"))\n",
        "round = 1\n",
        "while playing: # round\n",
        "    player = input(\"Enter your choice (rock, paper, scissors) or 'q' to quit: \").lower()\n",
        "\n",
        "    if player == 'q':\n",
        "        break\n",
        "\n",
        "    if player not in options:\n",
        "        print(\"Invalid choice. Please choose rock, paper, or scissors.\")\n",
        "        continue\n",
        "\n",
        "    computer = random.choice(options)\n",
        "\n",
        "    print(f\"Player: {player}\")\n",
        "    print(f\"Computer: {computer}\")\n",
        "    result = determine_winner(player, computer)\n",
        "\n",
        "    if result == 'Tie':\n",
        "        print(f\"It\\'s a Tie At Round {round}\")\n",
        "    elif result == 'User':\n",
        "        user_score += 1\n",
        "        print(f\"User Won This Round {round}\")\n",
        "        print(\"-\"*50)\n",
        "        print(f\"User Score = {user_score}\\nComputer Score = {computer_score}\")\n",
        "    elif result == 'Computer':\n",
        "        computer_score += 1\n",
        "        print(f\"Computer Won This Round {round}\")\n",
        "        print(\"-\"*50)\n",
        "        print(f\"User Score = {user_score}\\nComputer Score = {computer_score}\")\n",
        "\n",
        "    if user_score == rounds:\n",
        "        print(\"User Won The Game\")\n",
        "        response = input(\"Play Again (y / n) \")\n",
        "        if response.lower() == 'n' or response.lower() == \"no\":\n",
        "            break\n",
        "        else:\n",
        "            computer_score = 0\n",
        "            user_score = 0\n",
        "            round = 0\n",
        "            rounds = int(input(\"Number of rounds to win the game \"))\n",
        "    elif computer_score == rounds:\n",
        "        print(\"Computer Won The Game\")\n",
        "        response = input(\"Play Again (y / n) \")\n",
        "        if response.lower() == 'n' or response.lower() == \"no\":\n",
        "            break\n",
        "        else:\n",
        "            computer_score = 0\n",
        "            user_score = 0\n",
        "            round = 0\n",
        "            rounds = int(input(\"Number of rounds to win the game \"))\n",
        "\n",
        "\n",
        "\n",
        "    round += 1\n",
        "    # response = input(\"Play Again (y / n) \")\n",
        "    # if response.lower() == 'n' or response.lower() == \"no\":\n",
        "    #     break\n",
        "\n",
        "print(\"Thanks for playing!\")"
      ]
    },
    {
      "cell_type": "code",
      "execution_count": null,
      "metadata": {
        "id": "BpG6dkKYTbfC"
      },
      "outputs": [],
      "source": []
    }
  ],
  "metadata": {
    "kernelspec": {
      "display_name": "Python 3",
      "language": "python",
      "name": "python3"
    },
    "language_info": {
      "codemirror_mode": {
        "name": "ipython",
        "version": 3
      },
      "file_extension": ".py",
      "mimetype": "text/x-python",
      "name": "python",
      "nbconvert_exporter": "python",
      "pygments_lexer": "ipython3",
      "version": "3.7.6"
    },
    "colab": {
      "provenance": []
    }
  },
  "nbformat": 4,
  "nbformat_minor": 0
}